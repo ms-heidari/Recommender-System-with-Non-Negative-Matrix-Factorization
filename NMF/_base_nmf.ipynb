{
  "cells": [
    {
      "cell_type": "markdown",
      "source": [
        "<div dir=rtl>\n",
        "در این پروژه قصد داریم با استفاده از روش None negative matrix factorization (NMF) یک سیستم توصیه گر برای دیتاست  Netflix Prize data طراحی کنیم. در ادامه توضیحات تیوری و فرمال این روش آورده شده است.\n",
        "</div>"
      ],
      "metadata": {
        "id": "nlhMR8sb2aLZ"
      }
    },
    {
      "cell_type": "markdown",
      "source": [
        "<div dir=rtl>\n",
        "ماتریس V را غیر منفی مینامیم اگر تمام درایه های آن مثبت یا صفر باشد.\n",
        "با فرض اینکه این ماتریس دارای K سطر و N ستون باشد، این ماترس را میتوان بصورت حاصلضرب دوماتریس با ابعاد K*R و R*N نوشت:\n",
        "\n",
        "V = W.H\n",
        "\n",
        "در اینجا پارامتر R بعنوان رنک این فاکتوریزاسیون در نظر گرفته میشود که معمولا بسیار کوچکتر از K و N میباشد. بردارهای ستونی در W بعنوان بردارهای تمپلیت و مقادیر موجود در H بعنوان فعالسازها در نظر گرفته میشوند.\n",
        "\n",
        "از آنجایی که معمولا برای معادله V = W*H جوابهای زیادی به ازای ماتریس های مختلف W و H وجود دارد، معمولا برای بدست آوردن بهینه ترین جواب از یک روش آپدیت ماترسی ها بصورت ضرب شونده استفاده میشود. در این روش آپدیت پارامترها، هر کدام از این دو ماتریس بصورت جداگانه آپدیت میشود و معیار توقف آموزش 2 حالت است. یا تعداد دوره های آموزش به پایان میرسد، و یا فاصله اقلیدسی هر کدام از این ماتریس ها از حالت قبل خودشان، کمتر از یک مقدار تعیین شده است\n",
        "</div>"
      ],
      "metadata": {
        "id": "rbor10PzwtF2"
      }
    },
    {
      "cell_type": "markdown",
      "source": [
        "<div dir=rtl>\n",
        "مراحل آموزش این مدل به شرح زیر است:\n",
        "\n",
        "1. ماتریس های W و H بصورت رندوم مقداردهی اولیه میشوند.\n",
        "2. این ماتریس ها برای استپ بعدی بصورت زیر محاسبه میشوند:\n",
        "\n",
        "        H = H * (W.transpose().dot(V) / (W.transpose().dot(W).dot(H) + eps_machine))\n",
        "        W = W * (V.dot(H.transpose()) / (W.dot(H).dot(H.transpose()) + eps_machine))\n",
        "\n",
        "3. فاصله اقلیدسی این دو ماتریس با خودشان در استپ قبلی محاسبه میشود و اگر این فاصله در یکی از این دو کمتر از یک مقدار تعیین شده باشد، آموزش متوقف میشود در غیر اینصورت به مرحله 2 بازمیگردیم.\n",
        "</div>"
      ],
      "metadata": {
        "id": "dB-lRKFDy9fA"
      }
    },
    {
      "cell_type": "markdown",
      "source": [
        "<div dir=rtl>\n",
        "همانطور که در بالاتر ذکر شد، داده مورد استفاده در این کار  Netflix Prize data میباشد. این دیتاست مربوط به امتیاز دهی کاربران نتفلیکس بر رو فیلمهای منتشر شده از سال 1890 تا 2005 میباشد. پس از خواندن و اعمال یکسری پیش پردازشها، این داده دازای 4 فیلد مختلف است:\n",
        "\n",
        "1. آی دی فیلم ها\n",
        "2. آیدی کاربرها\n",
        "3. امتیاز تخصیص داده شده توسط کاربر \n",
        "4. تاریخ منتشر شدن فیلم\n",
        "\n",
        "منتها در این پروژه صرفا از 3 فیلد اولی استفاده شده است. در این دیتاست مجموعا 17770 عنوام فیلم و 480189 کاربر یکتا وجود دارد. بواسطه بالا بودن حجم متغیرها هنگام آموزش این مدل صرفا از  بخشی از داده ها (1 میلیون سه تایی آیدی فیلم - آیدی کاربر- امتیاز کاربر ) مورد استفاده قرار گرفته است\n",
        "</div>"
      ],
      "metadata": {
        "id": "PMzUEU2D1YIQ"
      }
    },
    {
      "cell_type": "markdown",
      "source": [
        "<div dir=rtl>\n",
        "در سه سلول بعدی دیتاست از سایت کگل دانلود شده است\n",
        "</div>"
      ],
      "metadata": {
        "id": "9z-E8QfO5qd7"
      }
    },
    {
      "cell_type": "code",
      "source": [
        "!pip install kaggle\n",
        "!mkdir ~/.kaggle\n",
        "!cp kaggle.json ~/.kaggle/\n",
        "!chmod 600 ~/.kaggle/kaggle.json"
      ],
      "metadata": {
        "id": "X16wDfqND-9y",
        "outputId": "2e40a515-eaee-43c1-abc9-f4453993846d",
        "colab": {
          "base_uri": "https://localhost:8080/"
        }
      },
      "execution_count": 1,
      "outputs": [
        {
          "output_type": "stream",
          "name": "stdout",
          "text": [
            "Looking in indexes: https://pypi.org/simple, https://us-python.pkg.dev/colab-wheels/public/simple/\n",
            "Requirement already satisfied: kaggle in /usr/local/lib/python3.8/dist-packages (1.5.12)\n",
            "Requirement already satisfied: python-dateutil in /usr/local/lib/python3.8/dist-packages (from kaggle) (2.8.2)\n",
            "Requirement already satisfied: requests in /usr/local/lib/python3.8/dist-packages (from kaggle) (2.25.1)\n",
            "Requirement already satisfied: python-slugify in /usr/local/lib/python3.8/dist-packages (from kaggle) (7.0.0)\n",
            "Requirement already satisfied: urllib3 in /usr/local/lib/python3.8/dist-packages (from kaggle) (1.24.3)\n",
            "Requirement already satisfied: tqdm in /usr/local/lib/python3.8/dist-packages (from kaggle) (4.64.1)\n",
            "Requirement already satisfied: certifi in /usr/local/lib/python3.8/dist-packages (from kaggle) (2022.12.7)\n",
            "Requirement already satisfied: six>=1.10 in /usr/local/lib/python3.8/dist-packages (from kaggle) (1.15.0)\n",
            "Requirement already satisfied: text-unidecode>=1.3 in /usr/local/lib/python3.8/dist-packages (from python-slugify->kaggle) (1.3)\n",
            "Requirement already satisfied: chardet<5,>=3.0.2 in /usr/local/lib/python3.8/dist-packages (from requests->kaggle) (4.0.0)\n",
            "Requirement already satisfied: idna<3,>=2.5 in /usr/local/lib/python3.8/dist-packages (from requests->kaggle) (2.10)\n"
          ]
        }
      ]
    },
    {
      "cell_type": "code",
      "source": [
        "!kaggle datasets download netflix-inc/netflix-prize-data"
      ],
      "metadata": {
        "id": "jl87keNGEQf6",
        "outputId": "6d3877fb-c466-4e09-a97f-daf3d6368e66",
        "colab": {
          "base_uri": "https://localhost:8080/"
        }
      },
      "execution_count": 2,
      "outputs": [
        {
          "output_type": "stream",
          "name": "stdout",
          "text": [
            "Downloading netflix-prize-data.zip to /content\n",
            " 99% 676M/683M [00:06<00:00, 112MB/s] \n",
            "100% 683M/683M [00:06<00:00, 114MB/s]\n"
          ]
        }
      ]
    },
    {
      "cell_type": "code",
      "source": [
        "!unzip netflix-prize-data.zip -d data"
      ],
      "metadata": {
        "id": "To6ShqsuEb7x",
        "outputId": "237d7c9c-d002-48e4-e170-c11c4213baca",
        "colab": {
          "base_uri": "https://localhost:8080/"
        }
      },
      "execution_count": 3,
      "outputs": [
        {
          "output_type": "stream",
          "name": "stdout",
          "text": [
            "Archive:  netflix-prize-data.zip\n",
            "  inflating: data/README             \n",
            "  inflating: data/combined_data_1.txt  \n",
            "  inflating: data/combined_data_2.txt  \n",
            "  inflating: data/combined_data_3.txt  \n",
            "  inflating: data/combined_data_4.txt  \n",
            "  inflating: data/movie_titles.csv   \n",
            "  inflating: data/probe.txt          \n",
            "  inflating: data/qualifying.txt     \n"
          ]
        }
      ]
    },
    {
      "cell_type": "markdown",
      "source": [
        "<div dir=rtl>\n",
        "در این سلول کتابخانه های مورد استفاده ایمپورت شده است\n",
        "</div>"
      ],
      "metadata": {
        "id": "FOgyuej15yae"
      }
    },
    {
      "cell_type": "code",
      "source": [
        "import pandas as pd\n",
        "import numpy as np\n",
        "import matplotlib.pyplot as plt\n",
        "from scipy import sparse\n",
        "from sklearn.model_selection import train_test_split\n",
        "from sklearn.metrics import mean_squared_error"
      ],
      "metadata": {
        "id": "As4TZ8IkEWzZ"
      },
      "execution_count": 1,
      "outputs": []
    },
    {
      "cell_type": "markdown",
      "source": [
        "<div dir=rtl>\n",
        "در این سلول سه تایع تعریف شده است.\n",
        "\n",
        "تایع read_data برای تبدیل دیتاست به فرم ثابت (دیتافریم) نوشته شده است. در این تابع فایل های متنی جداگانه که حاوی دیتا اصلی میباشد خوانده شده و پس از تجمیع در یک دیتافریم برگشت داده شده است.\n",
        "\n",
        "تابع data_to_matrix دیتاست را به ماتریسهای اسپارس تبدیل میکند.\n",
        "\n",
        "تابع rmse خطای پیشبینی را برای محاسبه میکند.\n",
        "\n",
        "تابع nmf الگوریتم اصلی پیاده سازی شده میباشد.\n",
        "\n",
        "تابع recommend نام کاربری کاربر را بهمراه ماتریس اصلی و پیشبینی شده دریافت کرده و بع تعداد تعیین شده آیدی فیلم های پیشنهادی را در یک لیست برمیگرداند.\n",
        "\n",
        "\n",
        "</div>"
      ],
      "metadata": {
        "id": "I3Q4-B3L5-2s"
      }
    },
    {
      "cell_type": "code",
      "source": [
        "def read_data(files, title_path):\n",
        "\n",
        "    data = open('data.csv', mode='w')\n",
        "    row = list()\n",
        "\n",
        "    for file in files:\n",
        "        with open(file) as f:\n",
        "            for line in f: \n",
        "                del row[:] \n",
        "                line = line.strip()\n",
        "                if line.endswith(':'):\n",
        "                    movie_id = line.replace(':', '')\n",
        "                else:\n",
        "                    row = [x for x in line.split(',')]\n",
        "                    row.insert(0, movie_id)\n",
        "                    data.write(','.join(row))\n",
        "                    data.write('\\n')\n",
        "\n",
        "    data.close()\n",
        "\n",
        "    df = pd.read_csv('data.csv', header=None, nrows = 1000000).iloc[:, :-1]\n",
        "    df.columns = ['UserID', 'MovieID', 'Rating']\n",
        "\n",
        "    movie_map = {a:i for i, a in enumerate(sorted(df['MovieID'].unique()))}\n",
        "    user_map = {a:i for i, a in enumerate(sorted(df['UserID'].unique()))}\n",
        "\n",
        "    df['MovieID'] = df['MovieID'].map(lambda a:movie_map[a])\n",
        "    df['UserID'] = df['UserID'].map(lambda a:user_map[a])\n",
        "    \n",
        "    \n",
        "    \n",
        "    return df\n",
        "\n",
        "def data_to_matrix(x, y, m_shape):\n",
        "\n",
        "    M = sparse.csr_matrix((y,(x[:, 0], x[:, 1])), shape=(m_shape[0],m_shape[1])).toarray()  \n",
        "\n",
        "    return M.T\n",
        "\n",
        "def rmse(true, pred):\n",
        "\n",
        "    pred = pred[true != 0].flatten()\n",
        "    true = true[true != 0].flatten()\n",
        "    \n",
        "    return np.sqrt(mean_squared_error(true, pred))\n",
        "\n",
        "def nmf(V, R, thresh=0.001, L=1000):\n",
        "\n",
        "    H_ERROR = []\n",
        "    W_ERROR = []\n",
        "\n",
        "    K = V.shape[0]\n",
        "    N = V.shape[1]\n",
        "\n",
        "    W = np.random.rand(K, R)\n",
        "    H = np.random.rand(R, N)\n",
        "\n",
        "    V = V.astype(np.float64)\n",
        "    W = W.astype(np.float64)\n",
        "    H = H.astype(np.float64)\n",
        "    ell = 1\n",
        "    below_thresh = False\n",
        "    eps_machine = np.finfo(np.float32).eps\n",
        "\n",
        "    while not below_thresh and ell <= L:\n",
        "        H_ell = H\n",
        "        W_ell = W\n",
        "        H = H * (W.transpose().dot(V) / (W.transpose().dot(W).dot(H) + eps_machine))\n",
        "        W = W * (V.dot(H.transpose()) / (W.dot(H).dot(H.transpose()) + eps_machine))\n",
        "\n",
        "        H_error = np.linalg.norm(H-H_ell, ord=2)\n",
        "        W_error = np.linalg.norm(W - W_ell, ord=2)\n",
        "\n",
        "        H_ERROR.append(H_error)\n",
        "        W_ERROR.append(W_error)\n",
        "\n",
        "        if H_error < thresh and W_error < thresh:\n",
        "            below_thresh = True\n",
        "        ell += 1\n",
        "    \n",
        "    return W, H, W_ERROR, H_ERROR\n",
        "\n",
        "def recommend(user_id, matrix, pred_matrix, num_of_rec):\n",
        "\n",
        "    pred_user = pred_matrix[:, user_id]\n",
        "    true_user = matrix[:, user_id]\n",
        "\n",
        "    rec_dict = dict()\n",
        "\n",
        "    for i, val in enumerate(true_user):\n",
        "        if val == 0 and pred_user[i] != 0:\n",
        "            rec_dict[i] = pred_user[i]\n",
        "\n",
        "    rec_dict = dict(sorted(rec_dict.items(), key=lambda item: item[1]))\n",
        "    rec_movie_id = list(rec_dict.keys())[-num_of_rec:]\n",
        "\n",
        "    print(f\"recommended movie id: {rec_movie_id}\")"
      ],
      "metadata": {
        "id": "IUnajeu1EspJ"
      },
      "execution_count": 69,
      "outputs": []
    },
    {
      "cell_type": "markdown",
      "source": [
        "<div dir=rtl>\n",
        "در این سلول پس از خواندن داده ها، به تست و ترین تقسیم شده و ماتریسهای تستو ترین محاسبه میشوند.\n",
        "</div>"
      ],
      "metadata": {
        "id": "xINfRDLY8f56"
      }
    },
    {
      "cell_type": "code",
      "source": [
        "data = read_data(['data/combined_data_1.txt', 'data/combined_data_2.txt', 'data/combined_data_3.txt', 'data/combined_data_4.txt'], 'data/movie_titles.csv')\n",
        "matrix_shape = (len(data['UserID'].unique()), len(data['MovieID'].unique()))\n",
        "\n",
        "\n",
        "X = data[['UserID','MovieID']].values\n",
        "y = data['Rating'].values\n",
        "X_train, X_test, y_train, y_test = train_test_split(X, y, test_size=0.2)\n",
        "\n",
        "X = None\n",
        "y = None\n",
        "\n",
        "train_matrix = data_to_matrix(X_train, y_train, matrix_shape)\n",
        "test_matrix = data_to_matrix(X_test, y_test, matrix_shape)\n",
        "\n",
        "data.head()"
      ],
      "metadata": {
        "id": "DUXhnah9F2e2",
        "outputId": "77825798-bcbb-443e-9636-8f0642ab2ee7",
        "colab": {
          "base_uri": "https://localhost:8080/",
          "height": 206
        }
      },
      "execution_count": 3,
      "outputs": [
        {
          "output_type": "execute_result",
          "data": {
            "text/plain": [
              "   UserID  MovieID  Rating\n",
              "0       0   159639       3\n",
              "1       0    88366       5\n",
              "2       0    95010       4\n",
              "3       0     3228       4\n",
              "4       0    88509       3"
            ],
            "text/html": [
              "\n",
              "  <div id=\"df-97f25857-c319-41aa-b541-d108e25bcaa9\">\n",
              "    <div class=\"colab-df-container\">\n",
              "      <div>\n",
              "<style scoped>\n",
              "    .dataframe tbody tr th:only-of-type {\n",
              "        vertical-align: middle;\n",
              "    }\n",
              "\n",
              "    .dataframe tbody tr th {\n",
              "        vertical-align: top;\n",
              "    }\n",
              "\n",
              "    .dataframe thead th {\n",
              "        text-align: right;\n",
              "    }\n",
              "</style>\n",
              "<table border=\"1\" class=\"dataframe\">\n",
              "  <thead>\n",
              "    <tr style=\"text-align: right;\">\n",
              "      <th></th>\n",
              "      <th>UserID</th>\n",
              "      <th>MovieID</th>\n",
              "      <th>Rating</th>\n",
              "    </tr>\n",
              "  </thead>\n",
              "  <tbody>\n",
              "    <tr>\n",
              "      <th>0</th>\n",
              "      <td>0</td>\n",
              "      <td>159639</td>\n",
              "      <td>3</td>\n",
              "    </tr>\n",
              "    <tr>\n",
              "      <th>1</th>\n",
              "      <td>0</td>\n",
              "      <td>88366</td>\n",
              "      <td>5</td>\n",
              "    </tr>\n",
              "    <tr>\n",
              "      <th>2</th>\n",
              "      <td>0</td>\n",
              "      <td>95010</td>\n",
              "      <td>4</td>\n",
              "    </tr>\n",
              "    <tr>\n",
              "      <th>3</th>\n",
              "      <td>0</td>\n",
              "      <td>3228</td>\n",
              "      <td>4</td>\n",
              "    </tr>\n",
              "    <tr>\n",
              "      <th>4</th>\n",
              "      <td>0</td>\n",
              "      <td>88509</td>\n",
              "      <td>3</td>\n",
              "    </tr>\n",
              "  </tbody>\n",
              "</table>\n",
              "</div>\n",
              "      <button class=\"colab-df-convert\" onclick=\"convertToInteractive('df-97f25857-c319-41aa-b541-d108e25bcaa9')\"\n",
              "              title=\"Convert this dataframe to an interactive table.\"\n",
              "              style=\"display:none;\">\n",
              "        \n",
              "  <svg xmlns=\"http://www.w3.org/2000/svg\" height=\"24px\"viewBox=\"0 0 24 24\"\n",
              "       width=\"24px\">\n",
              "    <path d=\"M0 0h24v24H0V0z\" fill=\"none\"/>\n",
              "    <path d=\"M18.56 5.44l.94 2.06.94-2.06 2.06-.94-2.06-.94-.94-2.06-.94 2.06-2.06.94zm-11 1L8.5 8.5l.94-2.06 2.06-.94-2.06-.94L8.5 2.5l-.94 2.06-2.06.94zm10 10l.94 2.06.94-2.06 2.06-.94-2.06-.94-.94-2.06-.94 2.06-2.06.94z\"/><path d=\"M17.41 7.96l-1.37-1.37c-.4-.4-.92-.59-1.43-.59-.52 0-1.04.2-1.43.59L10.3 9.45l-7.72 7.72c-.78.78-.78 2.05 0 2.83L4 21.41c.39.39.9.59 1.41.59.51 0 1.02-.2 1.41-.59l7.78-7.78 2.81-2.81c.8-.78.8-2.07 0-2.86zM5.41 20L4 18.59l7.72-7.72 1.47 1.35L5.41 20z\"/>\n",
              "  </svg>\n",
              "      </button>\n",
              "      \n",
              "  <style>\n",
              "    .colab-df-container {\n",
              "      display:flex;\n",
              "      flex-wrap:wrap;\n",
              "      gap: 12px;\n",
              "    }\n",
              "\n",
              "    .colab-df-convert {\n",
              "      background-color: #E8F0FE;\n",
              "      border: none;\n",
              "      border-radius: 50%;\n",
              "      cursor: pointer;\n",
              "      display: none;\n",
              "      fill: #1967D2;\n",
              "      height: 32px;\n",
              "      padding: 0 0 0 0;\n",
              "      width: 32px;\n",
              "    }\n",
              "\n",
              "    .colab-df-convert:hover {\n",
              "      background-color: #E2EBFA;\n",
              "      box-shadow: 0px 1px 2px rgba(60, 64, 67, 0.3), 0px 1px 3px 1px rgba(60, 64, 67, 0.15);\n",
              "      fill: #174EA6;\n",
              "    }\n",
              "\n",
              "    [theme=dark] .colab-df-convert {\n",
              "      background-color: #3B4455;\n",
              "      fill: #D2E3FC;\n",
              "    }\n",
              "\n",
              "    [theme=dark] .colab-df-convert:hover {\n",
              "      background-color: #434B5C;\n",
              "      box-shadow: 0px 1px 3px 1px rgba(0, 0, 0, 0.15);\n",
              "      filter: drop-shadow(0px 1px 2px rgba(0, 0, 0, 0.3));\n",
              "      fill: #FFFFFF;\n",
              "    }\n",
              "  </style>\n",
              "\n",
              "      <script>\n",
              "        const buttonEl =\n",
              "          document.querySelector('#df-97f25857-c319-41aa-b541-d108e25bcaa9 button.colab-df-convert');\n",
              "        buttonEl.style.display =\n",
              "          google.colab.kernel.accessAllowed ? 'block' : 'none';\n",
              "\n",
              "        async function convertToInteractive(key) {\n",
              "          const element = document.querySelector('#df-97f25857-c319-41aa-b541-d108e25bcaa9');\n",
              "          const dataTable =\n",
              "            await google.colab.kernel.invokeFunction('convertToInteractive',\n",
              "                                                     [key], {});\n",
              "          if (!dataTable) return;\n",
              "\n",
              "          const docLinkHtml = 'Like what you see? Visit the ' +\n",
              "            '<a target=\"_blank\" href=https://colab.research.google.com/notebooks/data_table.ipynb>data table notebook</a>'\n",
              "            + ' to learn more about interactive tables.';\n",
              "          element.innerHTML = '';\n",
              "          dataTable['output_type'] = 'display_data';\n",
              "          await google.colab.output.renderOutput(dataTable, element);\n",
              "          const docLink = document.createElement('div');\n",
              "          docLink.innerHTML = docLinkHtml;\n",
              "          element.appendChild(docLink);\n",
              "        }\n",
              "      </script>\n",
              "    </div>\n",
              "  </div>\n",
              "  "
            ]
          },
          "metadata": {},
          "execution_count": 3
        }
      ]
    },
    {
      "cell_type": "markdown",
      "source": [
        "<div dir=rtl>\n",
        "تعداد کاربرها و فیلم های یکتا در این قسمت مورد بررسی از دیتاست پرینت میشود.\n",
        "</div>"
      ],
      "metadata": {
        "id": "Z4ahcCif8ubA"
      }
    },
    {
      "cell_type": "code",
      "source": [
        "print(f\"number of unique user : {len(data['UserID'].unique())}\")\n",
        "print(f\"number of unique movie: {len(data['MovieID'].unique())}\")"
      ],
      "metadata": {
        "id": "CZDA1kToIFza",
        "outputId": "8f174d63-c4db-4267-fb92-5031e36452de",
        "colab": {
          "base_uri": "https://localhost:8080/"
        }
      },
      "execution_count": 4,
      "outputs": [
        {
          "output_type": "stream",
          "name": "stdout",
          "text": [
            "number of unique user : 225\n",
            "number of unique movie: 283705\n"
          ]
        }
      ]
    },
    {
      "cell_type": "markdown",
      "source": [
        "<div dir=rtl>\n",
        "در این سلول هیستوگرام امتیازهای داده شده توسط کاربران ترسیم شده است.\n",
        "</div>"
      ],
      "metadata": {
        "id": "NAg5hbTQ85Vn"
      }
    },
    {
      "cell_type": "code",
      "source": [
        "data['Rating'].hist(grid=True)\n",
        "plt.xlabel('rating')\n",
        "plt.ylabel('frequency')"
      ],
      "metadata": {
        "id": "ijE71RPRMEbv",
        "outputId": "428564ae-63ee-47ca-ea47-baa5c428a34c",
        "colab": {
          "base_uri": "https://localhost:8080/",
          "height": 296
        }
      },
      "execution_count": 5,
      "outputs": [
        {
          "output_type": "execute_result",
          "data": {
            "text/plain": [
              "Text(0, 0.5, 'frequency')"
            ]
          },
          "metadata": {},
          "execution_count": 5
        },
        {
          "output_type": "display_data",
          "data": {
            "text/plain": [
              "<Figure size 432x288 with 1 Axes>"
            ],
            "image/png": "[encoded data removed]"
          },
          "metadata": {
            "needs_background": "light"
          }
        }
      ]
    },
    {
      "cell_type": "markdown",
      "source": [
        "<div dir=rtl>\n",
        "در این سلول هیستوگرام مربوط به تعداد فیلم های امتیاز داده شده توسط هرکدام از کاربرها ترسیم شده است.\n",
        "</div>"
      ],
      "metadata": {
        "id": "WYrFV7Br9GH8"
      }
    },
    {
      "cell_type": "code",
      "source": [
        "data['UserID'].hist(grid=True)\n",
        "plt.xlabel('user id')\n",
        "plt.ylabel('number of movie')"
      ],
      "metadata": {
        "id": "6BodP0olM4QF",
        "outputId": "95110d14-2502-4427-9cc6-8ab8a76983d1",
        "colab": {
          "base_uri": "https://localhost:8080/",
          "height": 296
        }
      },
      "execution_count": 6,
      "outputs": [
        {
          "output_type": "execute_result",
          "data": {
            "text/plain": [
              "Text(0, 0.5, 'number of movie')"
            ]
          },
          "metadata": {},
          "execution_count": 6
        },
        {
          "output_type": "display_data",
          "data": {
            "text/plain": [
              "<Figure size 432x288 with 1 Axes>"
            ],
            "image/png": "[encoded data removed]"
          },
          "metadata": {
            "needs_background": "light"
          }
        }
      ]
    },
    {
      "cell_type": "markdown",
      "source": [
        "<div dir=rtl>\n",
        "در این سلول مدل آموزش دیده و ماتریس های مورد نظر و تغییرات خطای آنها برگشت داده شده است. \n",
        "</div>"
      ],
      "metadata": {
        "id": "RA958JYJ9cRJ"
      }
    },
    {
      "cell_type": "code",
      "source": [
        "W, H, W_ERROR, H_ERROR = nmf(train_matrix, 20)"
      ],
      "metadata": {
        "id": "_l4gg8C62gEW"
      },
      "execution_count": 63,
      "outputs": []
    },
    {
      "cell_type": "markdown",
      "source": [
        "<div dir=rtl>\n",
        "در این سلول تاریخچه تغییرات خطای دو ماتریس W و H ترسیم شده است. \n",
        "</div>"
      ],
      "metadata": {
        "id": "Z-AEnqjF9juz"
      }
    },
    {
      "cell_type": "code",
      "source": [
        "fig, ax = plt.subplots(figsize = (12, 6))\n",
        "ax.plot(W_ERROR, label = 'W_ERROR')\n",
        "ax.plot(H_ERROR, label = 'H_ERROR')\n",
        "ax.grid()\n",
        "ax.legend()\n",
        "ax.set(xlabel='period', ylabel='error')"
      ],
      "metadata": {
        "id": "PslSRO7SNQAB",
        "outputId": "50a8e432-9a1f-4013-8ac9-060aed583df2",
        "colab": {
          "base_uri": "https://localhost:8080/",
          "height": 405
        }
      },
      "execution_count": 64,
      "outputs": [
        {
          "output_type": "execute_result",
          "data": {
            "text/plain": [
              "[Text(0, 0.5, 'error'), Text(0.5, 0, 'period')]"
            ]
          },
          "metadata": {},
          "execution_count": 64
        },
        {
          "output_type": "display_data",
          "data": {
            "text/plain": [
              "<Figure size 864x432 with 1 Axes>"
            ],
            "image/png": "[encoded data removed]"
          },
          "metadata": {
            "needs_background": "light"
          }
        }
      ]
    },
    {
      "cell_type": "markdown",
      "source": [
        "<div dir=rtl>\n",
        "در این سلول خطای پیشبینی محاسبه شده است. \n",
        "</div>"
      ],
      "metadata": {
        "id": "589pLWrL9uRD"
      }
    },
    {
      "cell_type": "code",
      "source": [
        "pred = W.dot(H)\n",
        "print(f\"model rmse: {round(rmse(test_matrix, pred), 4)}\")"
      ],
      "metadata": {
        "id": "8DGWwflc1Zjm",
        "outputId": "8a97163e-5d94-47dd-81dc-c1474244946a",
        "colab": {
          "base_uri": "https://localhost:8080/"
        }
      },
      "execution_count": 65,
      "outputs": [
        {
          "output_type": "stream",
          "name": "stdout",
          "text": [
            "model rmse: 3.718\n"
          ]
        }
      ]
    },
    {
      "cell_type": "markdown",
      "source": [
        "<div dir=rtl>\n",
        "در دو سلول بعدی دو کاربر بصورت تصادفی انتخاب شده و ریکامندیشن برای آنها انجام شده است.\n",
        "</div>"
      ],
      "metadata": {
        "id": "BN_zUeXW92Dg"
      }
    },
    {
      "cell_type": "code",
      "source": [
        "user_id = 23\n",
        "num_of_rec = 3\n",
        "\n",
        "recommend(user_id, train_matrix, pred, num_of_rec)"
      ],
      "metadata": {
        "id": "ltsKsQr8Sdrt",
        "outputId": "a8b64937-3e1e-4052-88a1-d9c2ec5d5a19",
        "colab": {
          "base_uri": "https://localhost:8080/"
        }
      },
      "execution_count": 66,
      "outputs": [
        {
          "output_type": "stream",
          "name": "stdout",
          "text": [
            "recommended movie id: [140575, 129226, 5316]\n"
          ]
        }
      ]
    },
    {
      "cell_type": "code",
      "source": [
        "user_id = 97\n",
        "num_of_rec = 3\n",
        "\n",
        "recommend(user_id, train_matrix, pred, num_of_rec)"
      ],
      "metadata": {
        "id": "jcgT0TtXSoxw",
        "outputId": "6d94141a-8039-4ba5-a611-879278717850",
        "colab": {
          "base_uri": "https://localhost:8080/"
        }
      },
      "execution_count": 67,
      "outputs": [
        {
          "output_type": "stream",
          "name": "stdout",
          "text": [
            "recommended movie id: [85451, 178321, 226828]\n"
          ]
        }
      ]
    }
  ],
  "metadata": {
    "colab": {
      "name": "04-plotting-with-pandas.ipynb",
      "provenance": []
    },
    "kernelspec": {
      "display_name": "Python 3",
      "language": "python",
      "name": "python3"
    },
    "language_info": {
      "codemirror_mode": {
        "name": "ipython",
        "version": 3
      },
      "file_extension": ".py",
      "mimetype": "text/x-python",
      "name": "python",
      "nbconvert_exporter": "python",
      "pygments_lexer": "ipython3",
      "version": "3.6.6"
    }
  },
  "nbformat": 4,
  "nbformat_minor": 0
}